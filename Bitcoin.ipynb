{
 "cells": [
  {
   "cell_type": "code",
   "execution_count": 1,
   "metadata": {},
   "outputs": [
    {
     "name": "stdout",
     "output_type": "stream",
     "text": [
      "./input/elliptic_txs_features_test.csv\n",
      "./input/elliptic_txs_classes.csv\n",
      "./input/elliptic_txs_edgelist.csv\n",
      "./input/elliptic_txs_features.csv\n"
     ]
    }
   ],
   "source": [
    "import numpy as np \n",
    "import pandas as pd \n",
    "\n",
    "import os\n",
    "for dirname, _, filenames in os.walk('./input'):\n",
    "    for filename in filenames:\n",
    "        print(os.path.join(dirname, filename))"
   ]
  },
  {
   "cell_type": "code",
   "execution_count": 2,
   "metadata": {},
   "outputs": [],
   "source": [
    "import pandas as pd \n",
    "import networkx as nx\n",
    "import tensorflow as tf\n",
    "import numpy as np\n",
    "import matplotlib.pyplot as plt\n",
    "from sklearn import metrics\n",
    "\n",
    "id_time=[\"txId\", \"time_step\"]\n",
    "feature_names = ['feature_'+str(i) for i in range(1,166)]\n",
    "column_names = id_time + feature_names\n",
    "elliptic_classes = pd.read_csv('./input/elliptic_txs_classes.csv')\n",
    "elliptic_classes.columns = ['txId', 'class_label']\n",
    "elliptic_edgelist = pd.read_csv('./input/elliptic_txs_edgelist.csv')\n",
    "elliptic_features = pd.read_csv('./input/elliptic_txs_features.csv', names=column_names)\n",
    "elliptic_features[\"centrality\"] =None"
   ]
  },
  {
   "cell_type": "markdown",
   "metadata": {},
   "source": [
    "## Basic Model"
   ]
  },
  {
   "cell_type": "code",
   "execution_count": 6,
   "metadata": {},
   "outputs": [],
   "source": [
    "import torch\n",
    "import torch.nn.functional as F\n",
    "\n",
    "import torch_geometric.transforms as T\n",
    "from torch_geometric.datasets import EllipticBitcoinDataset\n",
    "#from torch_geometric.logging import init_wandb, log\n",
    "from torch_geometric.nn import GCNConv\n",
    "\n",
    "dataset = EllipticBitcoinDataset(root='./pytorch_input')\n",
    "\n",
    "class GCN(torch.nn.Module):\n",
    "    def __init__(self, in_channels, hidden_channels, out_channels):\n",
    "        super().__init__()\n",
    "        self.conv1 = GCNConv(in_channels, hidden_channels)\n",
    "        self.conv2 = GCNConv(hidden_channels, hidden_channels)\n",
    "        self.conv3 = GCNConv(hidden_channels, out_channels)\n",
    "\n",
    "    def forward(self, x, edge_index):\n",
    "        # x: Node feature matrix of shape [num_nodes, in_channels]\n",
    "        # edge_index: Graph connectivity matrix of shape [2, num_edges]\n",
    "        #x = F.dropout(x, p=0.5, training=self.training)\n",
    "        x = self.conv1(x, edge_index).relu()\n",
    "        x = F.dropout(x, p=0.5, training=self.training)\n",
    "        x = self.conv2(x, edge_index).relu()\n",
    "        x = F.dropout(x, p=0.5, training=self.training)\n",
    "        x = self.conv3(x, edge_index)\n",
    "        return x\n"
   ]
  },
  {
   "cell_type": "code",
   "execution_count": 49,
   "metadata": {},
   "outputs": [],
   "source": [
    "simplemodel = GCN(dataset.num_features, 32, dataset.num_classes+1)\n",
    "data=dataset[0]\n",
    "device = torch.device('cuda' if torch.cuda.is_available() else 'cpu')\n",
    "labeled = data.y>0\n",
    "randomize = torch.FloatTensor(data.y.shape[0]).uniform_()\n",
    "classweight = torch.FloatTensor([0,int((data.y == 2).sum()),int((data.y == 1).sum())])\n",
    "data.train_mask = torch.logical_and(data.y > 0,randomize>0.2)# 80% of labeled\n",
    "data.test_mask = torch.logical_and(data.y > 0,randomize< 0.2)# rest 20% of labeled\n",
    "# init_wandb(name=f'GCN-{args.dataset}', lr=args.lr, epochs=args.epochs,            hidden_channels=args.hidden_channels, device=device)\n",
    "simplemodel, data = simplemodel.to(device), data.to(device)\n",
    "optimizer = torch.optim.Adam([ dict(params=simplemodel.conv1.parameters(), weight_decay=5e-4), \n",
    "dict(params=simplemodel.conv2.parameters(), weight_decay=5e-4),\n",
    "dict(params=simplemodel.conv3.parameters(), weight_decay=0)], lr=0.005)  # Only perform weight-decay on first convolution.\n",
    "\n",
    "\n",
    "def train(model,d):\n",
    "    model.train()\n",
    "    optimizer.zero_grad()\n",
    "    out = model(d.x, d.edge_index)\n",
    "    #print(out.shape,new_y.shape)\n",
    "    #print(data.y[data.test_mask].shape)\n",
    "    loss = F.cross_entropy(out[d.train_mask], d.y[d.train_mask],weight=classweight)\n",
    "    loss.backward()\n",
    "    optimizer.step()\n",
    "    return float(loss)\n",
    "\n",
    "@torch.no_grad()\n",
    "def test(model,d):\n",
    "    model.eval()\n",
    "    pred = model(d.x, d.edge_index).argmax(dim=-1)\n",
    "    accs = []\n",
    "    for mask in [d.train_mask, d.test_mask]:\n",
    "        accs.append(int((pred[mask] == d.y[mask]).sum()) / int(mask.sum()))\n",
    "    return accs\n",
    "\n",
    "\n",
    "    #log(Epoch=epoch, Loss=loss, Train=train_acc, Val=0, Test=test_acc)"
   ]
  },
  {
   "cell_type": "code",
   "execution_count": null,
   "metadata": {},
   "outputs": [],
   "source": [
    "\n",
    "best_val_acc = final_test_acc = 0\n",
    "for epoch in range(1, 21):\n",
    "    loss = train(simplemodel,data)\n",
    "    train_acc, tmp_test_acc = test(simplemodel,data)\n",
    "    print(epoch,loss,train_acc,tmp_test_acc)"
   ]
  },
  {
   "cell_type": "markdown",
   "metadata": {},
   "source": [
    "## Generate New Centrality Feature"
   ]
  },
  {
   "cell_type": "code",
   "execution_count": 13,
   "metadata": {},
   "outputs": [
    {
     "name": "stdout",
     "output_type": "stream",
     "text": [
      "7880\n",
      "4544\n",
      "6621\n",
      "5693\n",
      "6803\n",
      "4328\n",
      "6048\n",
      "4457\n",
      "4996\n",
      "6727\n",
      "4296\n",
      "2047\n",
      "4528\n",
      "2022\n",
      "3639\n",
      "2975\n"
     ]
    }
   ],
   "source": [
    "time_steps = list(range(1,17))\n",
    "graphs = []\n",
    "for time_step in time_steps:\n",
    "    extract_nodes = list(set(elliptic_features[elliptic_features['time_step']==time_step]['txId'].values.tolist()))\n",
    "    edgelist_extract = elliptic_edgelist[elliptic_edgelist['txId1'].isin(extract_nodes) & elliptic_edgelist['txId2'].isin(extract_nodes)].values.tolist()\n",
    "    edgelist = [tuple(row) for row in edgelist_extract]\n",
    "    G = nx.DiGraph()\n",
    "    G.add_edges_from(edgelist)\n",
    "    graphs.append(G)\n",
    "    centrality = nx.in_degree_centrality(G)\n",
    "    print(len(centrality.keys()))\n",
    "    for id in centrality.keys():\n",
    "        elliptic_features.loc[(elliptic_features[\"txId\"] == id) &(elliptic_features['time_step']==time_step) ,\"centrality\"] = centrality[id]\n",
    "    #elliptic_features = pd.merge(elliptic_features,subset[[\"txId\",\"time_step\",\"new\"]],on = [\"txId\",\"time_step\"],how=\"left\")\n",
    "    #print(time_step,len(subset),len(centrality))\n",
    "extract_nodes = list(set(elliptic_features[elliptic_features['time_step'].isin(time_steps)]['txId'].values.tolist()))"
   ]
  },
  {
   "cell_type": "code",
   "execution_count": 46,
   "metadata": {},
   "outputs": [],
   "source": [
    "new = dataset[0]\n",
    "new.x = elliptic_features\n",
    "new.x = torch.Tensor(new.x[new.x.columns[2:]].values.astype(np.float32))\n",
    "new.x = torch.nan_to_num(new.x, nan=0)\n",
    "modelnew = GCN(dataset.num_features+1, 16, dataset.num_classes+1)"
   ]
  },
  {
   "cell_type": "code",
   "execution_count": 53,
   "metadata": {},
   "outputs": [
    {
     "name": "stdout",
     "output_type": "stream",
     "text": [
      "1 1.5124796628952026 0.046919845586130604 0.04648013051374396\n",
      "2 1.5283610820770264 0.046919845586130604 0.04648013051374396\n",
      "3 1.5279396772384644 0.046919845586130604 0.04648013051374396\n",
      "4 1.5333728790283203 0.046919845586130604 0.04648013051374396\n",
      "5 1.518808126449585 0.046919845586130604 0.04648013051374396\n",
      "6 1.5292044878005981 0.046919845586130604 0.04648013051374396\n",
      "7 1.522578477859497 0.046919845586130604 0.04648013051374396\n",
      "8 1.5254406929016113 0.046919845586130604 0.04648013051374396\n",
      "9 1.5326306819915771 0.046919845586130604 0.04648013051374396\n",
      "10 1.5192081928253174 0.046919845586130604 0.04648013051374396\n",
      "11 1.5253543853759766 0.046919845586130604 0.04648013051374396\n",
      "12 1.5113784074783325 0.046919845586130604 0.04648013051374396\n",
      "13 1.5392752885818481 0.046919845586130604 0.04648013051374396\n",
      "14 1.5097583532333374 0.046919845586130604 0.04648013051374396\n",
      "15 1.5169997215270996 0.046919845586130604 0.04648013051374396\n"
     ]
    },
    {
     "ename": "KeyboardInterrupt",
     "evalue": "",
     "output_type": "error",
     "traceback": [
      "\u001b[0;31m---------------------------------------------------------------------------\u001b[0m",
      "\u001b[0;31mKeyboardInterrupt\u001b[0m                         Traceback (most recent call last)",
      "\u001b[1;32m/Users/muhuaxu/Desktop/SophomoreSummer/GraphAI/bitcoin.ipynb Cell 11'\u001b[0m in \u001b[0;36m<cell line: 7>\u001b[0;34m()\u001b[0m\n\u001b[1;32m      <a href='vscode-notebook-cell:/Users/muhuaxu/Desktop/SophomoreSummer/GraphAI/bitcoin.ipynb#ch0000010?line=6'>7</a>\u001b[0m \u001b[39mfor\u001b[39;00m epoch \u001b[39min\u001b[39;00m \u001b[39mrange\u001b[39m(\u001b[39m1\u001b[39m, \u001b[39m21\u001b[39m):\n\u001b[1;32m      <a href='vscode-notebook-cell:/Users/muhuaxu/Desktop/SophomoreSummer/GraphAI/bitcoin.ipynb#ch0000010?line=7'>8</a>\u001b[0m     loss \u001b[39m=\u001b[39m train(modelnew,new)\n\u001b[0;32m----> <a href='vscode-notebook-cell:/Users/muhuaxu/Desktop/SophomoreSummer/GraphAI/bitcoin.ipynb#ch0000010?line=8'>9</a>\u001b[0m     train_acc, tmp_test_acc \u001b[39m=\u001b[39m test(modelnew,new)\n\u001b[1;32m     <a href='vscode-notebook-cell:/Users/muhuaxu/Desktop/SophomoreSummer/GraphAI/bitcoin.ipynb#ch0000010?line=9'>10</a>\u001b[0m     \u001b[39mprint\u001b[39m(epoch,loss,train_acc,tmp_test_acc)\n",
      "File \u001b[0;32m/usr/local/lib/python3.9/site-packages/torch/autograd/grad_mode.py:27\u001b[0m, in \u001b[0;36m_DecoratorContextManager.__call__.<locals>.decorate_context\u001b[0;34m(*args, **kwargs)\u001b[0m\n\u001b[1;32m     <a href='file:///usr/local/lib/python3.9/site-packages/torch/autograd/grad_mode.py?line=23'>24</a>\u001b[0m \u001b[39m@functools\u001b[39m\u001b[39m.\u001b[39mwraps(func)\n\u001b[1;32m     <a href='file:///usr/local/lib/python3.9/site-packages/torch/autograd/grad_mode.py?line=24'>25</a>\u001b[0m \u001b[39mdef\u001b[39;00m \u001b[39mdecorate_context\u001b[39m(\u001b[39m*\u001b[39margs, \u001b[39m*\u001b[39m\u001b[39m*\u001b[39mkwargs):\n\u001b[1;32m     <a href='file:///usr/local/lib/python3.9/site-packages/torch/autograd/grad_mode.py?line=25'>26</a>\u001b[0m     \u001b[39mwith\u001b[39;00m \u001b[39mself\u001b[39m\u001b[39m.\u001b[39mclone():\n\u001b[0;32m---> <a href='file:///usr/local/lib/python3.9/site-packages/torch/autograd/grad_mode.py?line=26'>27</a>\u001b[0m         \u001b[39mreturn\u001b[39;00m func(\u001b[39m*\u001b[39;49margs, \u001b[39m*\u001b[39;49m\u001b[39m*\u001b[39;49mkwargs)\n",
      "\u001b[1;32m/Users/muhuaxu/Desktop/SophomoreSummer/GraphAI/bitcoin.ipynb Cell 5'\u001b[0m in \u001b[0;36mtest\u001b[0;34m(model, d)\u001b[0m\n\u001b[1;32m     <a href='vscode-notebook-cell:/Users/muhuaxu/Desktop/SophomoreSummer/GraphAI/bitcoin.ipynb#ch0000008?line=26'>27</a>\u001b[0m \u001b[39m@torch\u001b[39m\u001b[39m.\u001b[39mno_grad()\n\u001b[1;32m     <a href='vscode-notebook-cell:/Users/muhuaxu/Desktop/SophomoreSummer/GraphAI/bitcoin.ipynb#ch0000008?line=27'>28</a>\u001b[0m \u001b[39mdef\u001b[39;00m \u001b[39mtest\u001b[39m(model,d):\n\u001b[1;32m     <a href='vscode-notebook-cell:/Users/muhuaxu/Desktop/SophomoreSummer/GraphAI/bitcoin.ipynb#ch0000008?line=28'>29</a>\u001b[0m     model\u001b[39m.\u001b[39meval()\n\u001b[0;32m---> <a href='vscode-notebook-cell:/Users/muhuaxu/Desktop/SophomoreSummer/GraphAI/bitcoin.ipynb#ch0000008?line=29'>30</a>\u001b[0m     pred \u001b[39m=\u001b[39m model(d\u001b[39m.\u001b[39;49mx, d\u001b[39m.\u001b[39;49medge_index)\u001b[39m.\u001b[39;49margmax(dim\u001b[39m=\u001b[39;49m\u001b[39m-\u001b[39;49m\u001b[39m1\u001b[39;49m)\n\u001b[1;32m     <a href='vscode-notebook-cell:/Users/muhuaxu/Desktop/SophomoreSummer/GraphAI/bitcoin.ipynb#ch0000008?line=30'>31</a>\u001b[0m     accs \u001b[39m=\u001b[39m []\n\u001b[1;32m     <a href='vscode-notebook-cell:/Users/muhuaxu/Desktop/SophomoreSummer/GraphAI/bitcoin.ipynb#ch0000008?line=31'>32</a>\u001b[0m     \u001b[39mfor\u001b[39;00m mask \u001b[39min\u001b[39;00m [d\u001b[39m.\u001b[39mtrain_mask, d\u001b[39m.\u001b[39mtest_mask]:\n",
      "\u001b[0;31mKeyboardInterrupt\u001b[0m: "
     ]
    }
   ],
   "source": [
    "randomize = torch.FloatTensor(data.y.shape[0]).uniform_()\n",
    "new.train_mask = torch.logical_and(data.y > 0,randomize>0.2)# 80% of labeled\n",
    "new.test_mask = torch.logical_and(data.y > 0,randomize< 0.2)# rest 20% of labeled\n",
    "modelnew, new = modelnew.to(device), new.to(device)\n",
    "best_val_acc = final_test_acc = 0\n",
    "train_acc = tmp_test_acc = 0\n",
    "for epoch in range(1, 21):\n",
    "    loss = train(modelnew,new)\n",
    "    train_acc, tmp_test_acc = test(modelnew,new)\n",
    "    print(epoch,loss,train_acc,tmp_test_acc)"
   ]
  }
 ],
 "metadata": {
  "interpreter": {
   "hash": "aee8b7b246df8f9039afb4144a1f6fd8d2ca17a180786b69acc140d282b71a49"
  },
  "kernelspec": {
   "display_name": "Python 3.9.12 64-bit",
   "language": "python",
   "name": "python3"
  },
  "language_info": {
   "codemirror_mode": {
    "name": "ipython",
    "version": 3
   },
   "file_extension": ".py",
   "mimetype": "text/x-python",
   "name": "python",
   "nbconvert_exporter": "python",
   "pygments_lexer": "ipython3",
   "version": "3.9.12"
  },
  "orig_nbformat": 4
 },
 "nbformat": 4,
 "nbformat_minor": 2
}
